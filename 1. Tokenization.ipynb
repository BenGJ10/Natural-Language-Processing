{
 "cells": [
  {
   "cell_type": "markdown",
   "id": "f9f1f526-0171-419f-8ced-dc5c08fb0463",
   "metadata": {},
   "source": [
    "## Tokenization Implementation"
   ]
  },
  {
   "cell_type": "code",
   "execution_count": 4,
   "id": "b9ed8db4-d048-4412-8097-37014648601d",
   "metadata": {},
   "outputs": [],
   "source": [
    "corpus = \"\"\"Hello, Welcome to the practical implementation of Natural Language Processing performed by Ben Gregory John.\n",
    "For further NLP related notebooks visit my GitHub page.\"\"\""
   ]
  },
  {
   "cell_type": "code",
   "execution_count": 6,
   "id": "63d29c5d-b77f-451a-ac3e-633fcc1962d5",
   "metadata": {},
   "outputs": [
    {
     "name": "stdout",
     "output_type": "stream",
     "text": [
      "Hello, Welcome to the practical implementation of Natural Language Processing performed by Ben Gregory John.\n",
      "For further NLP related notebooks visit my GitHub page.\n"
     ]
    }
   ],
   "source": [
    "print(corpus)"
   ]
  },
  {
   "cell_type": "code",
   "execution_count": 18,
   "id": "08d3f31b-1a7c-49fd-8a57-4364b5d34142",
   "metadata": {},
   "outputs": [],
   "source": [
    "# Converting paragraphs into sentences\n",
    "\n",
    "from nltk.tokenize import sent_tokenize"
   ]
  },
  {
   "cell_type": "code",
   "execution_count": 22,
   "id": "1078a16b-f7ed-42f2-b837-a75f279fbcf5",
   "metadata": {},
   "outputs": [],
   "source": [
    "documents = sent_tokenize(corpus)"
   ]
  },
  {
   "cell_type": "code",
   "execution_count": 24,
   "id": "c2efcc93-996e-490a-bc3b-a07ac127916a",
   "metadata": {},
   "outputs": [
    {
     "name": "stdout",
     "output_type": "stream",
     "text": [
      "Hello, Welcome to the practical implementation of Natural Language Processing performed by Ben Gregory John.\n",
      "For further NLP related notebooks visit my GitHub page.\n"
     ]
    }
   ],
   "source": [
    "for sentence in documents:\n",
    "    print(sentence)"
   ]
  },
  {
   "cell_type": "code",
   "execution_count": 26,
   "id": "d309b930-87a8-4315-a074-c1322392f8cb",
   "metadata": {},
   "outputs": [],
   "source": [
    "# Converting paragraph into words\n",
    "\n",
    "from nltk.tokenize import word_tokenize"
   ]
  },
  {
   "cell_type": "code",
   "execution_count": 30,
   "id": "5beeb6e2-64c3-4b78-af2a-d6a01fd8b0a8",
   "metadata": {
    "scrolled": true
   },
   "outputs": [
    {
     "name": "stdout",
     "output_type": "stream",
     "text": [
      "['Hello', ',', 'Welcome', 'to', 'the', 'practical', 'implementation', 'of', 'Natural', 'Language', 'Processing', 'performed', 'by', 'Ben', 'Gregory', 'John', '.']\n",
      "['For', 'further', 'NLP', 'related', 'notebooks', 'visit', 'my', 'GitHub', 'page', '.']\n"
     ]
    }
   ],
   "source": [
    "for sentence in documents:\n",
    "    print(word_tokenize(sentence))"
   ]
  },
  {
   "cell_type": "markdown",
   "id": "94f5db70-120a-43eb-95d7-0dc687f4b9bb",
   "metadata": {},
   "source": [
    " "
   ]
  },
  {
   "cell_type": "markdown",
   "id": "fc108efc-c8ab-4c07-a54c-00342cdf9b50",
   "metadata": {},
   "source": [
    "<b>wordpunct_tokenize will split the apostrophes as well.</b>"
   ]
  }
 ],
 "metadata": {
  "kernelspec": {
   "display_name": "Python 3 (ipykernel)",
   "language": "python",
   "name": "python3"
  },
  "language_info": {
   "codemirror_mode": {
    "name": "ipython",
    "version": 3
   },
   "file_extension": ".py",
   "mimetype": "text/x-python",
   "name": "python",
   "nbconvert_exporter": "python",
   "pygments_lexer": "ipython3",
   "version": "3.12.4"
  }
 },
 "nbformat": 4,
 "nbformat_minor": 5
}
