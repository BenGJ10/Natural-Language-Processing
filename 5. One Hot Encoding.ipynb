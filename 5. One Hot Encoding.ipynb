{
 "cells": [
  {
   "cell_type": "markdown",
   "id": "ffb0b6a9-31a0-416a-bf72-e3551fc4b541",
   "metadata": {},
   "source": [
    "## One Hot Encoding Implementation"
   ]
  },
  {
   "cell_type": "markdown",
   "id": "1ef9caca-ee7d-43d7-976a-fe0350cd88b1",
   "metadata": {},
   "source": [
    "One Hot Encoding is a method for converting categorical variables into a binary format.<br>\n",
    "It creates new columns for each category where 1 means the category is present and 0 means it is not."
   ]
  },
  {
   "cell_type": "markdown",
   "id": "755c0c5c-c0b2-4766-992d-fc0433822789",
   "metadata": {},
   "source": [
    "### Using Pandas"
   ]
  },
  {
   "cell_type": "code",
   "execution_count": 1,
   "id": "0b7d11b3-c71a-4594-b23b-dd002f609d1d",
   "metadata": {},
   "outputs": [],
   "source": [
    "import pandas as pd\n",
    "from sklearn.preprocessing import OneHotEncoder"
   ]
  },
  {
   "cell_type": "code",
   "execution_count": 2,
   "id": "6cec9db2-3a88-4870-9df9-75b1736e34d1",
   "metadata": {},
   "outputs": [],
   "source": [
    "data = {\n",
    "    'Employee id': [10, 20, 15, 25, 30],\n",
    "    'Gender': ['M', 'F', 'F', 'M', 'F'],\n",
    "    'Remarks': ['Good', 'Nice', 'Good', 'Great', 'Nice']\n",
    "}"
   ]
  },
  {
   "cell_type": "code",
   "execution_count": 3,
   "id": "f506a714-f7c1-4f0a-918c-90d0ff549ae5",
   "metadata": {},
   "outputs": [
    {
     "name": "stdout",
     "output_type": "stream",
     "text": [
      "Original Employee Data:\n",
      "   Employee id Gender Remarks\n",
      "0           10      M    Good\n",
      "1           20      F    Nice\n",
      "2           15      F    Good\n",
      "3           25      M   Great\n",
      "4           30      F    Nice\n",
      "\n"
     ]
    }
   ],
   "source": [
    "df = pd.DataFrame(data)\n",
    "print(f\"Original Employee Data:\\n{df}\\n\")"
   ]
  },
  {
   "cell_type": "markdown",
   "id": "83ade29b-c90f-437b-a49a-b27b574bb362",
   "metadata": {},
   "source": [
    "We pass the categorical columns to 'columns' and set drop_first=True to avoid dummy variable trap"
   ]
  },
  {
   "cell_type": "code",
   "execution_count": 4,
   "id": "d0ed630f-fdfd-43db-b920-2b0e9b2ad5f0",
   "metadata": {},
   "outputs": [],
   "source": [
    "df_pandas_encoded = pd.get_dummies(df, columns=['Gender', 'Remarks'], drop_first = True)"
   ]
  },
  {
   "cell_type": "code",
   "execution_count": 5,
   "id": "6ee3baa7-fc81-4288-a5d5-0ff01fc731e5",
   "metadata": {},
   "outputs": [
    {
     "name": "stdout",
     "output_type": "stream",
     "text": [
      "One-Hot Encoded Data using Pandas:\n",
      "   Employee id  Gender_M  Remarks_Great  Remarks_Nice\n",
      "0           10      True          False         False\n",
      "1           20     False          False          True\n",
      "2           15     False          False         False\n",
      "3           25      True           True         False\n",
      "4           30     False          False          True\n",
      "\n"
     ]
    }
   ],
   "source": [
    "print(f\"One-Hot Encoded Data using Pandas:\\n{df_pandas_encoded}\\n\")"
   ]
  },
  {
   "cell_type": "code",
   "execution_count": 8,
   "id": "eea14e67-b011-4d18-ab4c-9bca295e9b10",
   "metadata": {},
   "outputs": [],
   "source": [
    "categorical_columns = ['Gender', 'Remarks']"
   ]
  },
  {
   "cell_type": "code",
   "execution_count": 18,
   "id": "2b70a2bc-7a7c-492b-af61-6c580b0959cc",
   "metadata": {},
   "outputs": [],
   "source": [
    "#  Create the OneHotEncoder instance\n",
    "\n",
    "encoder = OneHotEncoder(sparse_output=False)"
   ]
  },
  {
   "cell_type": "code",
   "execution_count": 17,
   "id": "416e735d-744b-49d8-ae6b-c48805eeef7d",
   "metadata": {},
   "outputs": [],
   "source": [
    "# Fit the encoder on the categorical columns and transform them\n",
    "\n",
    "one_hot_encoded = encoder.fit_transform(df[categorical_columns])"
   ]
  },
  {
   "cell_type": "code",
   "execution_count": 15,
   "id": "1af5c0a0-9f25-4c7c-8f60-602acfab7458",
   "metadata": {},
   "outputs": [],
   "source": [
    "# Create a DataFrame from the encoded NumPy array\n",
    "\n",
    "one_hot_df = pd.DataFrame(one_hot_encoded, columns = encoder.get_feature_names_out(categorical_columns))"
   ]
  },
  {
   "cell_type": "code",
   "execution_count": 13,
   "id": "82e40a34-f0ac-4912-860f-9be6d36ca3ef",
   "metadata": {},
   "outputs": [],
   "source": [
    "# Concatenate the one-hot encoded columns back with the original non-categorical columns\n",
    "\n",
    "df_sklearn_encoded = pd.concat([df.drop(categorical_columns, axis = 1), one_hot_df], axis = 1)"
   ]
  },
  {
   "cell_type": "code",
   "execution_count": 14,
   "id": "206fd2c1-1b4c-4eb8-9c15-cfa5751383ea",
   "metadata": {},
   "outputs": [
    {
     "name": "stdout",
     "output_type": "stream",
     "text": [
      "One-Hot Encoded Data using Scikit-Learn:\n",
      "    Employee id  Gender_F  Gender_M  Remarks_Good  Remarks_Great  Remarks_Nice\n",
      "0           10       0.0       1.0           1.0            0.0           0.0\n",
      "1           20       1.0       0.0           0.0            0.0           1.0\n",
      "2           15       1.0       0.0           1.0            0.0           0.0\n",
      "3           25       0.0       1.0           0.0            1.0           0.0\n",
      "4           30       1.0       0.0           0.0            0.0           1.0\n"
     ]
    }
   ],
   "source": [
    "print(\"One-Hot Encoded Data using Scikit-Learn:\\n\", df_sklearn_encoded)"
   ]
  },
  {
   "cell_type": "code",
   "execution_count": null,
   "id": "4733e6c8-b6af-4d1c-9059-6c8f2bf0eb0d",
   "metadata": {},
   "outputs": [],
   "source": []
  }
 ],
 "metadata": {
  "kernelspec": {
   "display_name": "Python [conda env:base] *",
   "language": "python",
   "name": "conda-base-py"
  },
  "language_info": {
   "codemirror_mode": {
    "name": "ipython",
    "version": 3
   },
   "file_extension": ".py",
   "mimetype": "text/x-python",
   "name": "python",
   "nbconvert_exporter": "python",
   "pygments_lexer": "ipython3",
   "version": "3.13.5"
  }
 },
 "nbformat": 4,
 "nbformat_minor": 5
}
